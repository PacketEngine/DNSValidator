{
 "cells": [
  {
   "cell_type": "code",
   "execution_count": null,
   "metadata": {},
   "outputs": [],
   "source": [
    "import re \n",
    "import json\n",
    "import shutil\n",
    "import configparser\n",
    "import pathlib as pl\n",
    "import datetime as dt "
   ]
  },
  {
   "cell_type": "code",
   "execution_count": null,
   "metadata": {},
   "outputs": [],
   "source": [
    "from src.DNSValidator import __main__ as py_template\n",
    "from src.DNSValidator import functions as fn\n",
    "from src.DNSValidator import environment as env \n",
    "from src.DNSValidator import CustomLogger "
   ]
  },
  {
   "cell_type": "code",
   "execution_count": null,
   "metadata": {},
   "outputs": [],
   "source": [
    "logger = CustomLogger('DNSValidator') "
   ]
  },
  {
   "cell_type": "code",
   "execution_count": null,
   "metadata": {},
   "outputs": [],
   "source": [
    "scrp = py_template._scr_paths(\n",
    "    wrkDir=pl.Path('DNSValidator'), \n",
    "    cfgFile=pl.Path('config.ini'), \n",
    "    inpFile=pl.Path('input.txt') \n",
    ") "
   ]
  },
  {
   "cell_type": "code",
   "execution_count": null,
   "metadata": {},
   "outputs": [],
   "source": [
    "configs = configparser.ConfigParser()\n",
    "configs.read(scrp.cfgFile) "
   ]
  },
  {
   "cell_type": "code",
   "execution_count": null,
   "metadata": {},
   "outputs": [],
   "source": [
    "list(filter(lambda x: bool(x), configs['default']['resolvers'].splitlines()))"
   ]
  },
  {
   "cell_type": "code",
   "execution_count": null,
   "metadata": {},
   "outputs": [],
   "source": [
    "import random\n",
    "import string\n",
    "''.join(random.choice(string.ascii_lowercase) for i in range(10))"
   ]
  },
  {
   "cell_type": "code",
   "execution_count": null,
   "metadata": {},
   "outputs": [],
   "source": [
    "import re \n",
    "regex = re.compile(r'\\b(?:(?:25[0-5]|2[0-4][0-9]|[01]?[0-9][0-9]?)[.]){3}(?:25[0-5]|2[0-4][0-9]|[01]?[0-9][0-9]?)\\b')\n"
   ]
  },
  {
   "cell_type": "code",
   "execution_count": null,
   "metadata": {},
   "outputs": [],
   "source": [
    "regex.match('22.56.99.255')"
   ]
  },
  {
   "cell_type": "code",
   "execution_count": null,
   "metadata": {},
   "outputs": [],
   "source": [
    "import dns.resolver\n",
    "resolver = dns.resolver.Resolver(configure=False)\n",
    "resolver.nameservers = ['8.8.4.4']"
   ]
  },
  {
   "cell_type": "code",
   "execution_count": null,
   "metadata": {},
   "outputs": [],
   "source": [
    "resolver"
   ]
  },
  {
   "cell_type": "code",
   "execution_count": null,
   "metadata": {},
   "outputs": [],
   "source": [
    "import random\n",
    "import string\n",
    "\n",
    "for domain in [\"bet365.com\", \"facebook.com\", \"google.com\", \"paypal.com\", \"telegram.com\"]:\n",
    "    try:\n",
    "        a = f\"{''.join(random.choice(string.ascii_lowercase) for i in range(10))}.facebook.com\"\n",
    "        r = resolver.resolve(a, 'A')\n",
    "    except Exception as e:\n",
    "        print(' '.join(str(e).split()))"
   ]
  },
  {
   "cell_type": "code",
   "execution_count": null,
   "metadata": {},
   "outputs": [],
   "source": [
    "baselines = [\n",
    "    \"1.1.1.1\",\n",
    "    \"8.8.8.8\",\n",
    "    \"9.9.9.9\"\n",
    "]\n",
    "\n",
    "positivebaselines = [\n",
    "    \"bet365.com\",\n",
    "    \"telegram.com\"\n",
    "]"
   ]
  },
  {
   "cell_type": "code",
   "execution_count": null,
   "metadata": {},
   "outputs": [],
   "source": [
    "import sys\n",
    "import dns.resolver\n",
    "\n",
    "responses = dict()\n",
    "## Perform resolution on each of the 'baselines'\n",
    "for baseline in baselines:\n",
    "\n",
    "    d = dict()\n",
    "    resolver = dns.resolver.Resolver(configure=False)\n",
    "    resolver.nameservers = [baseline]\n",
    "\n",
    "    ## Check our baseline against this server\n",
    "    try:\n",
    "        goodanswer = resolver.resolve(\"bet365.com\", 'A')\n",
    "    except dns.exception.Timeout:\n",
    "        print('DNS Timeout for baseline server')\n",
    "\n",
    "    for rr in goodanswer:\n",
    "        d[\"ipaddr\"] = str(rr)\n",
    "\n",
    "    ## checks for often poisoned domains\n",
    "    d[\"pos\"] = dict()\n",
    "    for positivebaseline in positivebaselines:\n",
    "        posanswer = resolver.resolve(positivebaseline, 'A')\n",
    "        for rr in posanswer:\n",
    "            d[\"pos\"][positivebaseline] = str(rr)\n",
    "\n",
    "    try:\n",
    "        nxdomanswer = resolver.resolve(\"dnsvalidator\" + \"bet365.com\", 'A')\n",
    "        d[\"nxdomain\"] = False\n",
    "    except dns.resolver.NXDOMAIN:\n",
    "        d[\"nxdomain\"] = True\n",
    "    except dns.exception.Timeout:\n",
    "        logger.critical('DNS Timeout for baseline server')\n",
    "        sys.exit(1)\n",
    "\n",
    "    responses[baseline] = d\n"
   ]
  },
  {
   "cell_type": "code",
   "execution_count": null,
   "metadata": {},
   "outputs": [],
   "source": [
    "responses"
   ]
  },
  {
   "cell_type": "code",
   "execution_count": null,
   "metadata": {},
   "outputs": [],
   "source": [
    "len(set([ responses[key]['goodip'] for key in responses.keys()]))"
   ]
  },
  {
   "cell_type": "code",
   "execution_count": null,
   "metadata": {},
   "outputs": [],
   "source": [
    "for rr in goodanswer:\n",
    "    print(str(rr))"
   ]
  },
  {
   "cell_type": "code",
   "execution_count": null,
   "metadata": {},
   "outputs": [],
   "source": [
    "list(goodanswer)"
   ]
  },
  {
   "cell_type": "code",
   "execution_count": null,
   "metadata": {},
   "outputs": [],
   "source": []
  },
  {
   "cell_type": "code",
   "execution_count": null,
   "metadata": {},
   "outputs": [],
   "source": []
  },
  {
   "cell_type": "code",
   "execution_count": null,
   "metadata": {},
   "outputs": [],
   "source": [
    "##->> Get known_good_dns_servers\n",
    "def get_kgdns(trgs: list=['bet365.com']) -> 'dict':\n",
    "    from .environment import logger\n",
    "\n",
    "    kg_srvs = [\n",
    "        '1.1.1.1', #-> OpenDNS\n",
    "        '8.8.8.8', #-> Google\n",
    "        '9.9.9.9', #-> Quad9\n",
    "    ]\n",
    "\n",
    "    baselines = dict()\n",
    "    for srv in kg_srvs:\n",
    "        d = dict()\n",
    "        resolver = dns.resolver.Resolver(configure=False)\n",
    "        resolver.nameservers = [srv]\n",
    "\n",
    "        for target in trgs:\n",
    "            try:\n",
    "                rans = resolver.resolve(target, 'A')\n",
    "            except dns.exception.Timeout:\n",
    "                print(f'Baseline server {srv} timeout on {target}')\n",
    "                continue\n",
    "\n",
    "            for rr in rans:\n",
    "                d[target] = { 'ipaddr' : str(rr) }\n",
    "\n",
    "            try:\n",
    "                nxans = resolver.resolve(f'{get_rand_str(10)}.{target}', 'A')\n",
    "                d[target] = { 'nxdomain': False }\n",
    "            except dns.resolver.NXDOMAIN:\n",
    "                d[target] = { 'nxdomain': True }\n",
    "            except dns.exception.Timeout:\n",
    "                print(f'Baseline server {srv} timeout on {target}')\n",
    "                continue\n",
    "\n",
    "        baselines[srv] = d\n",
    "\n",
    "    return baselines\n",
    "\n",
    "def check_server(server: str) -> 'None':\n",
    "    from .environment import logger, scrp\n",
    "\n",
    "\n",
    "\n",
    "    return"
   ]
  },
  {
   "cell_type": "code",
   "execution_count": null,
   "metadata": {},
   "outputs": [],
   "source": []
  },
  {
   "cell_type": "code",
   "execution_count": 1,
   "metadata": {},
   "outputs": [
    {
     "data": {
      "text/plain": [
       "{'1.1.1.1': [{'bet365.com': {'ipaddr': '5.226.179.10', 'nxdomain': True}},\n",
       "  {'telegram.com': {'ipaddr': '146.75.74.62', 'nxdomain': False}}],\n",
       " '8.8.8.8': [{'bet365.com': {'ipaddr': '5.226.179.10', 'nxdomain': True}},\n",
       "  {'telegram.com': {'ipaddr': '199.232.106.62', 'nxdomain': False}}],\n",
       " '9.9.9.9': [{'bet365.com': {'ipaddr': '5.226.179.10', 'nxdomain': True}},\n",
       "  {'telegram.com': {'ipaddr': '151.101.42.62', 'nxdomain': False}}]}"
      ]
     },
     "execution_count": 1,
     "metadata": {},
     "output_type": "execute_result"
    }
   ],
   "source": [
    "from src.DNSValidator import functions\n",
    "baselines, goodip = functions.get_baselines()\n",
    "baselines "
   ]
  },
  {
   "cell_type": "code",
   "execution_count": 2,
   "metadata": {},
   "outputs": [
    {
     "data": {
      "text/plain": [
       "'5.226.179.10'"
      ]
     },
     "execution_count": 2,
     "metadata": {},
     "output_type": "execute_result"
    }
   ],
   "source": [
    "goodip"
   ]
  },
  {
   "cell_type": "code",
   "execution_count": 3,
   "metadata": {},
   "outputs": [
    {
     "ename": "SyntaxError",
     "evalue": "expected 'else' after 'if' expression (3391611994.py, line 1)",
     "output_type": "error",
     "traceback": [
      "\u001b[0;36m  Cell \u001b[0;32mIn[3], line 1\u001b[0;36m\u001b[0m\n\u001b[0;31m    servers = list(filter(lambda x: x if regex.match(x), servers))\u001b[0m\n\u001b[0m                                    ^\u001b[0m\n\u001b[0;31mSyntaxError\u001b[0m\u001b[0;31m:\u001b[0m expected 'else' after 'if' expression\n"
     ]
    }
   ],
   "source": [
    "servers = list(filter(lambda x: x if regex.match(x), servers)) "
   ]
  },
  {
   "cell_type": "code",
   "execution_count": 4,
   "metadata": {},
   "outputs": [],
   "source": [
    "import re"
   ]
  },
  {
   "cell_type": "code",
   "execution_count": 5,
   "metadata": {},
   "outputs": [],
   "source": [
    "regex = re.compile(r'\\b(?:(?:25[0-5]|2[0-4][0-9]|[01]?[0-9][0-9]?)[.]){3}(?:25[0-5]|2[0-4][0-9]|[01]?[0-9][0-9]?)\\b')"
   ]
  },
  {
   "cell_type": "code",
   "execution_count": 9,
   "metadata": {},
   "outputs": [],
   "source": [
    "l = ['29.55.206.111', '233.256.88.99']"
   ]
  },
  {
   "cell_type": "code",
   "execution_count": 11,
   "metadata": {},
   "outputs": [
    {
     "data": {
      "text/plain": [
       "['29.55.206.111']"
      ]
     },
     "execution_count": 11,
     "metadata": {},
     "output_type": "execute_result"
    }
   ],
   "source": [
    "list(filter(lambda x: regex.match(x), l))"
   ]
  },
  {
   "cell_type": "code",
   "execution_count": 12,
   "metadata": {},
   "outputs": [],
   "source": [
    "import dns.resolver\n",
    "resolver = dns.resolver.Resolver(configure=False)\n",
    "resolver.nameservers = ['91.239.207.90']"
   ]
  },
  {
   "cell_type": "code",
   "execution_count": 13,
   "metadata": {},
   "outputs": [
    {
     "ename": "NoAnswer",
     "evalue": "The DNS response does not contain an answer to the question: cnvzbmptrn.bet365.com. IN A",
     "output_type": "error",
     "traceback": [
      "\u001b[0;31m---------------------------------------------------------------------------\u001b[0m",
      "\u001b[0;31mNoAnswer\u001b[0m                                  Traceback (most recent call last)",
      "Cell \u001b[0;32mIn[13], line 1\u001b[0m\n\u001b[0;32m----> 1\u001b[0m resolver\u001b[39m.\u001b[39;49mresolve(\u001b[39m'\u001b[39;49m\u001b[39mcnvzbmptrn.bet365.com.\u001b[39;49m\u001b[39m'\u001b[39;49m, \u001b[39m'\u001b[39;49m\u001b[39mA\u001b[39;49m\u001b[39m'\u001b[39;49m)\n",
      "File \u001b[0;32m~/.pyenv/versions/3.10.9/envs/dnsvalidator-dev/lib/python3.10/site-packages/dns/resolver.py:1090\u001b[0m, in \u001b[0;36mResolver.resolve\u001b[0;34m(self, qname, rdtype, rdclass, tcp, source, raise_on_no_answer, source_port, lifetime, search)\u001b[0m\n\u001b[1;32m   1088\u001b[0m     (_, done) \u001b[39m=\u001b[39m resolution\u001b[39m.\u001b[39mquery_result(\u001b[39mNone\u001b[39;00m, ex)\n\u001b[1;32m   1089\u001b[0m     \u001b[39mcontinue\u001b[39;00m\n\u001b[0;32m-> 1090\u001b[0m (answer, done) \u001b[39m=\u001b[39m resolution\u001b[39m.\u001b[39;49mquery_result(response, \u001b[39mNone\u001b[39;49;00m)\n\u001b[1;32m   1091\u001b[0m \u001b[39m# Note we need to say \"if answer is not None\" and not just\u001b[39;00m\n\u001b[1;32m   1092\u001b[0m \u001b[39m# \"if answer\" because answer implements __len__, and python\u001b[39;00m\n\u001b[1;32m   1093\u001b[0m \u001b[39m# will call that.  We want to return if we have an answer\u001b[39;00m\n\u001b[1;32m   1094\u001b[0m \u001b[39m# object, including in cases where its length is 0.\u001b[39;00m\n\u001b[1;32m   1095\u001b[0m \u001b[39mif\u001b[39;00m answer \u001b[39mis\u001b[39;00m \u001b[39mnot\u001b[39;00m \u001b[39mNone\u001b[39;00m:\n",
      "File \u001b[0;32m~/.pyenv/versions/3.10.9/envs/dnsvalidator-dev/lib/python3.10/site-packages/dns/resolver.py:696\u001b[0m, in \u001b[0;36m_Resolution.query_result\u001b[0;34m(self, response, ex)\u001b[0m\n\u001b[1;32m    693\u001b[0m         \u001b[39mself\u001b[39m\u001b[39m.\u001b[39mresolver\u001b[39m.\u001b[39mcache\u001b[39m.\u001b[39mput((\u001b[39mself\u001b[39m\u001b[39m.\u001b[39mqname, \u001b[39mself\u001b[39m\u001b[39m.\u001b[39mrdtype,\n\u001b[1;32m    694\u001b[0m                                  \u001b[39mself\u001b[39m\u001b[39m.\u001b[39mrdclass), answer)\n\u001b[1;32m    695\u001b[0m     \u001b[39mif\u001b[39;00m answer\u001b[39m.\u001b[39mrrset \u001b[39mis\u001b[39;00m \u001b[39mNone\u001b[39;00m \u001b[39mand\u001b[39;00m \u001b[39mself\u001b[39m\u001b[39m.\u001b[39mraise_on_no_answer:\n\u001b[0;32m--> 696\u001b[0m         \u001b[39mraise\u001b[39;00m NoAnswer(response\u001b[39m=\u001b[39manswer\u001b[39m.\u001b[39mresponse)\n\u001b[1;32m    697\u001b[0m     \u001b[39mreturn\u001b[39;00m (answer, \u001b[39mTrue\u001b[39;00m)\n\u001b[1;32m    698\u001b[0m \u001b[39melif\u001b[39;00m rcode \u001b[39m==\u001b[39m dns\u001b[39m.\u001b[39mrcode\u001b[39m.\u001b[39mNXDOMAIN:\n\u001b[1;32m    699\u001b[0m     \u001b[39m# Further validate the response by making an Answer, even\u001b[39;00m\n\u001b[1;32m    700\u001b[0m     \u001b[39m# if we aren't going to cache it.\u001b[39;00m\n",
      "\u001b[0;31mNoAnswer\u001b[0m: The DNS response does not contain an answer to the question: cnvzbmptrn.bet365.com. IN A"
     ]
    }
   ],
   "source": [
    "resolver.resolve('cnvzbmptrn.bet365.com.', 'A')"
   ]
  },
  {
   "cell_type": "code",
   "execution_count": 1,
   "metadata": {},
   "outputs": [
    {
     "data": {
      "text/plain": [
       "list"
      ]
     },
     "execution_count": 1,
     "metadata": {},
     "output_type": "execute_result"
    }
   ],
   "source": [
    "import sys\n",
    "type(sys.argv)"
   ]
  },
  {
   "cell_type": "code",
   "execution_count": 2,
   "metadata": {},
   "outputs": [],
   "source": [
    "import argparse"
   ]
  },
  {
   "cell_type": "code",
   "execution_count": 5,
   "metadata": {},
   "outputs": [
    {
     "name": "stderr",
     "output_type": "stream",
     "text": [
      "usage: ipykernel_launcher.py [-h]\n",
      "ipykernel_launcher.py: error: unrecognized arguments: - t\n"
     ]
    },
    {
     "ename": "SystemExit",
     "evalue": "2",
     "output_type": "error",
     "traceback": [
      "An exception has occurred, use %tb to see the full traceback.\n",
      "\u001b[0;31mSystemExit\u001b[0m\u001b[0;31m:\u001b[0m 2\n"
     ]
    },
    {
     "name": "stderr",
     "output_type": "stream",
     "text": [
      "/home/maazb/.pyenv/versions/3.10.9/envs/dnsvalidator-dev/lib/python3.10/site-packages/IPython/core/interactiveshell.py:3450: UserWarning: To exit: use 'exit', 'quit', or Ctrl-D.\n",
      "  warn(\"To exit: use 'exit', 'quit', or Ctrl-D.\", stacklevel=1)\n"
     ]
    }
   ],
   "source": [
    "type(argparse.ArgumentParser().parse_args('-t'))"
   ]
  },
  {
   "cell_type": "code",
   "execution_count": null,
   "metadata": {},
   "outputs": [],
   "source": []
  }
 ],
 "metadata": {
  "kernelspec": {
   "display_name": "dnsvalidator-dev",
   "language": "python",
   "name": "python3"
  },
  "language_info": {
   "codemirror_mode": {
    "name": "ipython",
    "version": 3
   },
   "file_extension": ".py",
   "mimetype": "text/x-python",
   "name": "python",
   "nbconvert_exporter": "python",
   "pygments_lexer": "ipython3",
   "version": "3.10.9"
  },
  "orig_nbformat": 4,
  "vscode": {
   "interpreter": {
    "hash": "35139bd097d3cb4d43561fbdd9deab760df540dc1e1dfdc2ab362179cac58d13"
   }
  }
 },
 "nbformat": 4,
 "nbformat_minor": 2
}
